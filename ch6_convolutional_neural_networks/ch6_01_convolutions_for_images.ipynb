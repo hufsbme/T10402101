{
  "nbformat": 4,
  "nbformat_minor": 0,
  "metadata": {
    "colab": {
      "name": "ch6_01_convolutions_for_images.ipynb",
      "provenance": [],
      "collapsed_sections": []
    },
    "kernelspec": {
      "name": "python3",
      "display_name": "Python 3"
    }
  },
  "cells": [
    {
      "cell_type": "markdown",
      "metadata": {
        "id": "ETLcNqR40R5d",
        "colab_type": "text"
      },
      "source": [
        "# 6.2. Convolutions for Images"
      ]
    },
    {
      "cell_type": "code",
      "metadata": {
        "id": "FyUm65jvlBi0",
        "colab_type": "code",
        "colab": {}
      },
      "source": [
        "import torch\n",
        "from torch import nn"
      ],
      "execution_count": 0,
      "outputs": []
    },
    {
      "cell_type": "markdown",
      "metadata": {
        "id": "GBE_41-817v_",
        "colab_type": "text"
      },
      "source": [
        "- 2D Convolution을 수행하는 corr2d함수를 아래와 같이 구현하겠습니다. \n",
        "- 실제 구현된 함수는 2D correlation입니다. Correlation을 통해 어떻게 convolution을 수행할 수 있는지를 이해하도록 합니다.\n",
        "- Y의 shape가 어떻게 정해진 것인지 이해하도록 합니다.\n"
      ]
    },
    {
      "cell_type": "code",
      "metadata": {
        "id": "b0sL3SrvmUBI",
        "colab_type": "code",
        "colab": {}
      },
      "source": [
        "def corr2d(X, K):\n",
        "    h, w = K.shape\n",
        "    Y = torch.zeros((X.shape[0] - h + 1, X.shape[1] - w + 1))\n",
        "    for i in range(Y.shape[0]):\n",
        "        for j in range(Y.shape[1]):\n",
        "            Y[i, j] = (X[i: i + h, j: j + w] * K).sum()\n",
        "    return Y"
      ],
      "execution_count": 0,
      "outputs": []
    },
    {
      "cell_type": "markdown",
      "metadata": {
        "id": "B-gMHfcU3Eow",
        "colab_type": "text"
      },
      "source": [
        "- 간단한 예제를 통해 구현한 함수가 제대로 동작하는 지를 확인해 봅니다."
      ]
    },
    {
      "cell_type": "code",
      "metadata": {
        "id": "KCZXjiQHlW2P",
        "colab_type": "code",
        "colab": {
          "base_uri": "https://localhost:8080/",
          "height": 51
        },
        "outputId": "df82a3cb-4498-4599-f0cc-ff4a0c08ee37"
      },
      "source": [
        "X = torch.tensor([[0,1,2],[3,4,5],[6,7,8]])\n",
        "K = torch.tensor([[0,1],[2,3]])\n",
        "corr2d(X,K)"
      ],
      "execution_count": 3,
      "outputs": [
        {
          "output_type": "execute_result",
          "data": {
            "text/plain": [
              "tensor([[19., 25.],\n",
              "        [37., 43.]])"
            ]
          },
          "metadata": {
            "tags": []
          },
          "execution_count": 3
        }
      ]
    },
    {
      "cell_type": "markdown",
      "metadata": {
        "id": "5C8Rtscx3QgV",
        "colab_type": "text"
      },
      "source": [
        "- 이제 양 끝의 2개의 column이 1이고, 나머지는 0인 X를 정의하겠습니다."
      ]
    },
    {
      "cell_type": "code",
      "metadata": {
        "id": "zd9ushL4mpNk",
        "colab_type": "code",
        "colab": {
          "base_uri": "https://localhost:8080/",
          "height": 136
        },
        "outputId": "c2adb02f-fd27-41fc-b2fd-570932616e5b"
      },
      "source": [
        "X = torch.ones((6,8))\n",
        "X[:, 2:6] = 0\n",
        "print(X)\n",
        "print(X.shape)"
      ],
      "execution_count": 4,
      "outputs": [
        {
          "output_type": "stream",
          "text": [
            "tensor([[1., 1., 0., 0., 0., 0., 1., 1.],\n",
            "        [1., 1., 0., 0., 0., 0., 1., 1.],\n",
            "        [1., 1., 0., 0., 0., 0., 1., 1.],\n",
            "        [1., 1., 0., 0., 0., 0., 1., 1.],\n",
            "        [1., 1., 0., 0., 0., 0., 1., 1.],\n",
            "        [1., 1., 0., 0., 0., 0., 1., 1.]])\n",
            "torch.Size([6, 8])\n"
          ],
          "name": "stdout"
        }
      ]
    },
    {
      "cell_type": "markdown",
      "metadata": {
        "id": "-TEIrZZI3cNu",
        "colab_type": "text"
      },
      "source": [
        "- 연산에 사용할 kernel은 [1, -1] 입니다. 어떤 역할을 하는 kernel인지 상상해 봅시다."
      ]
    },
    {
      "cell_type": "code",
      "metadata": {
        "id": "xHxXy5NXmpVa",
        "colab_type": "code",
        "colab": {
          "base_uri": "https://localhost:8080/",
          "height": 51
        },
        "outputId": "af854dee-8521-4950-b356-d5c2dda1ce7d"
      },
      "source": [
        "K = torch.tensor([[1,-1]])\n",
        "print(K)\n",
        "print(K.shape)\n",
        "#print(K.t())\n",
        "#print(K.t().shape)"
      ],
      "execution_count": 5,
      "outputs": [
        {
          "output_type": "stream",
          "text": [
            "tensor([[ 1, -1]])\n",
            "torch.Size([1, 2])\n"
          ],
          "name": "stdout"
        }
      ]
    },
    {
      "cell_type": "markdown",
      "metadata": {
        "id": "oEKrecf03sm6",
        "colab_type": "text"
      },
      "source": [
        "- X와 K의 연산결과는 가로 방향으로의 difference임을 우리는 결과를 통해 확인할 수 있습니다. "
      ]
    },
    {
      "cell_type": "code",
      "metadata": {
        "id": "5P9V4i2dmpba",
        "colab_type": "code",
        "colab": {
          "base_uri": "https://localhost:8080/",
          "height": 119
        },
        "outputId": "067ab406-2fe7-4ab1-9c85-48655ed81898"
      },
      "source": [
        "Y = corr2d(X, K)\n",
        "Y\n",
        "#Yt = corr2d(X.t(),K)\n",
        "#Yt"
      ],
      "execution_count": 6,
      "outputs": [
        {
          "output_type": "execute_result",
          "data": {
            "text/plain": [
              "tensor([[ 0.,  1.,  0.,  0.,  0., -1.,  0.],\n",
              "        [ 0.,  1.,  0.,  0.,  0., -1.,  0.],\n",
              "        [ 0.,  1.,  0.,  0.,  0., -1.,  0.],\n",
              "        [ 0.,  1.,  0.,  0.,  0., -1.,  0.],\n",
              "        [ 0.,  1.,  0.,  0.,  0., -1.,  0.],\n",
              "        [ 0.,  1.,  0.,  0.,  0., -1.,  0.]])"
            ]
          },
          "metadata": {
            "tags": []
          },
          "execution_count": 6
        }
      ]
    },
    {
      "cell_type": "markdown",
      "metadata": {
        "id": "glF6_Rob37xI",
        "colab_type": "text"
      },
      "source": [
        "- 이제 2개의 parameter를 가지는 학습모델을 구성하고, X와 Y를 이용하여 parameter를 찾는 과정을 연습해 보겠습니다."
      ]
    },
    {
      "cell_type": "code",
      "metadata": {
        "id": "ifVOeuIAn4Bw",
        "colab_type": "code",
        "colab": {
          "base_uri": "https://localhost:8080/",
          "height": 51
        },
        "outputId": "ae120da4-aec4-4afc-aedb-d2b63b006fcb"
      },
      "source": [
        "conv2d = nn.Conv2d(1, 1, kernel_size = (1, 2), bias = False)\n",
        "X = X.reshape((1,1,6,8))\n",
        "Y = Y.reshape((1,1,6,7))\n",
        "\n",
        "print(conv2d.weight.data)\n",
        "print(conv2d.weight.grad)"
      ],
      "execution_count": 7,
      "outputs": [
        {
          "output_type": "stream",
          "text": [
            "tensor([[[[-0.2339, -0.3929]]]])\n",
            "None\n"
          ],
          "name": "stdout"
        }
      ]
    },
    {
      "cell_type": "markdown",
      "metadata": {
        "id": "SvYacoCB4fyo",
        "colab_type": "text"
      },
      "source": [
        "- L2 loss를 구현하고, iteration마다 loss와 parameter가 어떻게 변하는 지 확인합니다."
      ]
    },
    {
      "cell_type": "code",
      "metadata": {
        "id": "emRQnFGmn4FM",
        "colab_type": "code",
        "colab": {
          "base_uri": "https://localhost:8080/",
          "height": 357
        },
        "outputId": "f6bb0def-a1e3-4278-82a6-9ac66e05717f"
      },
      "source": [
        "for i in range(10):\n",
        "  Y_hat = conv2d(X)\n",
        "  l = (Y_hat - Y) **2\n",
        "  conv2d.zero_grad() \n",
        "  l.sum().backward()\n",
        "  conv2d.weight.data[:] -= 3e-2 * conv2d.weight.grad\n",
        "  print('iteration %d, loss %.3f' % (i+1, l.sum()))\n",
        "  print('parameters:', conv2d.weight.data)"
      ],
      "execution_count": 8,
      "outputs": [
        {
          "output_type": "stream",
          "text": [
            "iteration 1, loss 16.062\n",
            "parameters: tensor([[[[ 0.6616, -0.1601]]]])\n",
            "iteration 2, loss 7.937\n",
            "parameters: tensor([[[[ 0.4224, -0.8235]]]])\n",
            "iteration 3, loss 4.120\n",
            "parameters: tensor([[[[ 0.9192, -0.5982]]]])\n",
            "iteration 4, loss 2.244\n",
            "parameters: tensor([[[[ 0.7172, -0.9739]]]])\n",
            "iteration 5, loss 1.275\n",
            "parameters: tensor([[[[ 1.0039, -0.7985]]]])\n",
            "iteration 6, loss 0.750\n",
            "parameters: tensor([[[[ 0.8546, -1.0189]]]])\n",
            "iteration 7, loss 0.453\n",
            "parameters: tensor([[[[ 1.0252, -0.8938]]]])\n",
            "iteration 8, loss 0.279\n",
            "parameters: tensor([[[[ 0.9215, -1.0267]]]])\n",
            "iteration 9, loss 0.174\n",
            "parameters: tensor([[[[ 1.0255, -0.9414]]]])\n",
            "iteration 10, loss 0.109\n",
            "parameters: tensor([[[[ 0.9557, -1.0230]]]])\n"
          ],
          "name": "stdout"
        }
      ]
    },
    {
      "cell_type": "markdown",
      "metadata": {
        "id": "wklQg6T340FG",
        "colab_type": "text"
      },
      "source": [
        "- 찾은 parameter가 우리가 정의했던 K와 비슷한 값을 가지는지 확인합니다."
      ]
    },
    {
      "cell_type": "code",
      "metadata": {
        "id": "x3mSHF_1r6De",
        "colab_type": "code",
        "colab": {
          "base_uri": "https://localhost:8080/",
          "height": 34
        },
        "outputId": "63042a5b-3bc7-454c-8f03-7079b69e6e06"
      },
      "source": [
        "conv2d.weight.data.reshape((1,2))"
      ],
      "execution_count": 9,
      "outputs": [
        {
          "output_type": "execute_result",
          "data": {
            "text/plain": [
              "tensor([[ 0.9557, -1.0230]])"
            ]
          },
          "metadata": {
            "tags": []
          },
          "execution_count": 9
        }
      ]
    }
  ]
}